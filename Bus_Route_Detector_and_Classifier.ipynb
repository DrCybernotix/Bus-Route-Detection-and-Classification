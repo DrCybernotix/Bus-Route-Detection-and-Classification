{
  "nbformat": 4,
  "nbformat_minor": 0,
  "metadata": {
    "colab": {
      "name": "Bus Route Detector and Classifier.ipynb",
      "provenance": [],
      "authorship_tag": "ABX9TyMZDeKGl6t9uuaPifltMOB3"
    },
    "kernelspec": {
      "name": "python3",
      "display_name": "Python 3"
    },
    "language_info": {
      "name": "python"
    }
  },
  "cells": [
    {
      "cell_type": "code",
      "execution_count": null,
      "metadata": {
        "id": "YxiYyifwx1JQ"
      },
      "outputs": [],
      "source": [
        "!unzip /content/drive/MyDrive/Dataset_Final.zip"
      ]
    },
    {
      "cell_type": "code",
      "source": [
        "folder1=r\"/content/Dataset/Bus 2\"\n",
        "folder2=r\"/content/Dataset/Non Buses(Negative Examples)/data/vehicles\"\n",
        "folder3=r\"/content/Dataset/Non Buses(Negative Examples)/data/non-vehicles\"\n",
        "DIRECTORY=r'D:\\SDP'\n",
        "CATEGORIES=['bus','non-bus']"
      ],
      "metadata": {
        "id": "yCBkvitwUkG-"
      },
      "execution_count": null,
      "outputs": []
    },
    {
      "cell_type": "code",
      "source": [
        "import random\n",
        "import numpy as np\n",
        "from keras.models import Sequential\n",
        "from keras.layers import Conv2D, MaxPooling2D, Flatten, Dense\n",
        "from tensorflow.keras.callbacks import TensorBoard\n",
        "import imutils\n",
        "import easyocr"
      ],
      "metadata": {
        "id": "uLIFHOJTU15R"
      },
      "execution_count": null,
      "outputs": []
    },
    {
      "cell_type": "code",
      "source": [
        "IMG_SIZE=100\n",
        "\n",
        "data=[]\n",
        "for category in CATEGORIES:\n",
        "    folder=os.path.join(DIRECTORY,category)\n",
        "    label=CATEGORIES.index(category)\n",
        "    for img in os.listdir(folder):\n",
        "        img_path=os.path.join(folder,img)\n",
        "        img_arr=cv2.imread(img_path)\n",
        "        if img_arr is None:\n",
        "            print('Wrong path:', img_path)\n",
        "        else:\n",
        "            img_arr=cv2.resize(img_arr,(IMG_SIZE,IMG_SIZE))\n",
        "            data.append([img_arr,label])"
      ],
      "metadata": {
        "id": "BxyHEWNgU6V5"
      },
      "execution_count": null,
      "outputs": []
    },
    {
      "cell_type": "code",
      "source": [
        "len(data)"
      ],
      "metadata": {
        "id": "DuSfzZ-OU_tL"
      },
      "execution_count": null,
      "outputs": []
    },
    {
      "cell_type": "code",
      "source": [
        "random.shuffle(data)"
      ],
      "metadata": {
        "id": "LByPnGdfVCBj"
      },
      "execution_count": null,
      "outputs": []
    },
    {
      "cell_type": "code",
      "source": [
        "X=[]\n",
        "y=[]\n",
        "\n",
        "for features,labels in data:\n",
        "    X.append(features)\n",
        "    y.append(labels) "
      ],
      "metadata": {
        "id": "G96Q2GhRVCSD"
      },
      "execution_count": null,
      "outputs": []
    },
    {
      "cell_type": "code",
      "source": [
        "X=np.array(X)\n",
        "y=np.array(y)"
      ],
      "metadata": {
        "id": "q4H9aKOLVI3_"
      },
      "execution_count": null,
      "outputs": []
    },
    {
      "cell_type": "code",
      "source": [
        "pickle.dump(X,open('X.pkl','wb'))\n",
        "pickle.dump(y,open('y.pkl','wb'))"
      ],
      "metadata": {
        "id": "a9m8l-AJVI6H"
      },
      "execution_count": null,
      "outputs": []
    },
    {
      "cell_type": "code",
      "source": [
        "X1=pickle.load(open('X.pkl','rb'))\n",
        "y1=pickle.load(open('y.pkl','rb'))"
      ],
      "metadata": {
        "id": "nOFfp_9GVI8d"
      },
      "execution_count": null,
      "outputs": []
    },
    {
      "cell_type": "code",
      "source": [
        "X1=X1/255"
      ],
      "metadata": {
        "id": "n1rZ6z6hVI--"
      },
      "execution_count": null,
      "outputs": []
    },
    {
      "cell_type": "code",
      "source": [
        "X1.shape"
      ],
      "metadata": {
        "id": "gpR7v8urVPuF"
      },
      "execution_count": null,
      "outputs": []
    },
    {
      "cell_type": "code",
      "source": [
        "model=Sequential()\n",
        "\n",
        "model.add(Conv2D(64, (3,3), activation = 'relu'))\n",
        "model.add(MaxPooling2D((2,2)))\n",
        "\n",
        "model.add(Conv2D(64, (3,3), activation = 'relu'))\n",
        "model.add(MaxPooling2D((2,2)))\n",
        "\n",
        "model.add(Flatten())\n",
        "\n",
        "model.add(Dense(128, input_shape=X1.shape[1:], activation='relu'))\n",
        "\n",
        "model.add(Dense(2,activation='softmax'))"
      ],
      "metadata": {
        "id": "fWVZL5uRVPwv"
      },
      "execution_count": null,
      "outputs": []
    },
    {
      "cell_type": "code",
      "source": [
        "model.compile(optimizer='adam',loss='sparse_categorical_crossentropy',metrics=['accuracy'])"
      ],
      "metadata": {
        "id": "7Db5vgS5VPyx"
      },
      "execution_count": null,
      "outputs": []
    },
    {
      "cell_type": "code",
      "source": [
        "NAME='Classify Buses-{int(time.time())}'\n",
        "tensorboard=TensorBoard(log_dir=f'logs\\\\{NAME}\\\\')"
      ],
      "metadata": {
        "id": "rADjn2roVhs0"
      },
      "execution_count": null,
      "outputs": []
    },
    {
      "cell_type": "code",
      "source": [
        "model.fit(X1,y1, epochs=5, validation_split=0.1,callbacks=[tensorboard])"
      ],
      "metadata": {
        "id": "yA8jGe0mVhxE"
      },
      "execution_count": null,
      "outputs": []
    },
    {
      "cell_type": "code",
      "source": [
        "img = cv2.imread(r\"D:\\\\Final Dataset\\Numbered Bus\\35.jpeg\")\n",
        "gray = cv2.cvtColor(img, cv2.COLOR_BGR2GRAY)\n",
        "plt.imshow(cv2.cvtColor(gray, cv2.COLOR_BGR2RGB))"
      ],
      "metadata": {
        "id": "VTr8TS4sVhzU"
      },
      "execution_count": null,
      "outputs": []
    },
    {
      "cell_type": "code",
      "source": [
        "bfilter = cv2.bilateralFilter(gray, 11, 17, 17) #Noise reduction\n",
        "edged = cv2.Canny(bfilter, 30, 200) #Edge detection\n",
        "plt.imshow(cv2.cvtColor(edged, cv2.COLOR_BGR2RGB))"
      ],
      "metadata": {
        "id": "Jn3EY_l6Vwoz"
      },
      "execution_count": null,
      "outputs": []
    },
    {
      "cell_type": "code",
      "source": [
        "keypoints = cv2.findContours(edged.copy(), cv2.RETR_TREE, cv2.CHAIN_APPROX_SIMPLE)\n",
        "contours = imutils.grab_contours(keypoints)\n",
        "contours = sorted(contours, key=cv2.contourArea, reverse=True)[:10]"
      ],
      "metadata": {
        "id": "2NJJ7AwVVwrD"
      },
      "execution_count": null,
      "outputs": []
    },
    {
      "cell_type": "code",
      "source": [
        "location = None\n",
        "for contour in contours:\n",
        "    approx = cv2.approxPolyDP(contour, 10, True)\n",
        "    if len(approx) == 4:\n",
        "        location = approx\n",
        "        break"
      ],
      "metadata": {
        "id": "DiI04HESVwuq"
      },
      "execution_count": null,
      "outputs": []
    },
    {
      "cell_type": "code",
      "source": [
        "location"
      ],
      "metadata": {
        "id": "L0Jpm93_V1vi"
      },
      "execution_count": null,
      "outputs": []
    },
    {
      "cell_type": "code",
      "source": [
        "mask = np.zeros(gray.shape, np.uint8)\n",
        "new_image = cv2.drawContours(mask, [location], 0,255, -1)\n",
        "new_image = cv2.bitwise_and(img, img, mask=mask)"
      ],
      "metadata": {
        "id": "RpD-0D1SV10W"
      },
      "execution_count": null,
      "outputs": []
    },
    {
      "cell_type": "code",
      "source": [
        "plt.imshow(cv2.cvtColor(new_image, cv2.COLOR_BGR2RGB))"
      ],
      "metadata": {
        "id": "C-TFDnwOV16j"
      },
      "execution_count": null,
      "outputs": []
    },
    {
      "cell_type": "code",
      "source": [
        "(x,y) = np.where(mask==255)\n",
        "(x1, y1) = (np.min(x), np.min(y))\n",
        "(x2, y2) = (np.max(x), np.max(y))\n",
        "cropped_image = gray[x1-3:x2+5, y1-3:y2+5]"
      ],
      "metadata": {
        "id": "RAjZCkVHV72I"
      },
      "execution_count": null,
      "outputs": []
    },
    {
      "cell_type": "code",
      "source": [
        "plt.imshow(cv2.cvtColor(cropped_image, cv2.COLOR_BGR2RGB))"
      ],
      "metadata": {
        "id": "OR6leVhrV74n"
      },
      "execution_count": null,
      "outputs": []
    },
    {
      "cell_type": "code",
      "source": [
        "reader = easyocr.Reader(['en'])\n",
        "result = reader.readtext(cropped_image)\n",
        "result"
      ],
      "metadata": {
        "id": "mMfw3VDnV77J"
      },
      "execution_count": null,
      "outputs": []
    },
    {
      "cell_type": "code",
      "source": [
        "text = result[0][-2]\n",
        "font = cv2.FONT_HERSHEY_SIMPLEX\n",
        "res = cv2.putText(img, text=text, org=(approx[0][0][0], approx[1][0][1]+60), fontFace=font, fontScale=1, color=(0,255,0), thickness=2, lineType=cv2.LINE_AA)\n",
        "res = cv2.rectangle(img, tuple(approx[0][0]), tuple(approx[2][0]), (0,255,0),3)\n",
        "plt.imshow(cv2.cvtColor(res, cv2.COLOR_BGR2RGB))"
      ],
      "metadata": {
        "id": "UccEOwE3V79Q"
      },
      "execution_count": null,
      "outputs": []
    },
    {
      "cell_type": "code",
      "source": [
        "text"
      ],
      "metadata": {
        "id": "sL8f06gEV7_H"
      },
      "execution_count": null,
      "outputs": []
    },
    {
      "cell_type": "code",
      "source": [
        "if text=='5':\n",
        "    print(\"Wanowrie to Bibewadi\")\n",
        "if text=='4':\n",
        "    print(\"Koregaon Park to MG Road\")\n",
        "if text=='3':\n",
        "    print(\"Kondhwa to Fatima Nagar\")\n",
        "if text=='2':\n",
        "    print(\"Salunke Vihar to Hadapsar\")\n",
        "if text=='1':\n",
        "    print(\"Kalyani Nagar to Lohegaon\")"
      ],
      "metadata": {
        "id": "Q_F_LZWHV8A9"
      },
      "execution_count": null,
      "outputs": []
    }
  ]
}